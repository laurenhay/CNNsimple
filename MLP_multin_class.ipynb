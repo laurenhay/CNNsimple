{
 "cells": [
  {
   "cell_type": "code",
   "execution_count": 1,
   "metadata": {},
   "outputs": [
    {
     "name": "stderr",
     "output_type": "stream",
     "text": [
      "/opt/conda/lib/python3.7/site-packages/tensorflow/python/framework/dtypes.py:526: FutureWarning: Passing (type, 1) or '1type' as a synonym of type is deprecated; in a future version of numpy, it will be understood as (type, (1,)) / '(1,)type'.\n",
      "  _np_qint8 = np.dtype([(\"qint8\", np.int8, 1)])\n",
      "/opt/conda/lib/python3.7/site-packages/tensorflow/python/framework/dtypes.py:527: FutureWarning: Passing (type, 1) or '1type' as a synonym of type is deprecated; in a future version of numpy, it will be understood as (type, (1,)) / '(1,)type'.\n",
      "  _np_quint8 = np.dtype([(\"quint8\", np.uint8, 1)])\n",
      "/opt/conda/lib/python3.7/site-packages/tensorflow/python/framework/dtypes.py:528: FutureWarning: Passing (type, 1) or '1type' as a synonym of type is deprecated; in a future version of numpy, it will be understood as (type, (1,)) / '(1,)type'.\n",
      "  _np_qint16 = np.dtype([(\"qint16\", np.int16, 1)])\n",
      "/opt/conda/lib/python3.7/site-packages/tensorflow/python/framework/dtypes.py:529: FutureWarning: Passing (type, 1) or '1type' as a synonym of type is deprecated; in a future version of numpy, it will be understood as (type, (1,)) / '(1,)type'.\n",
      "  _np_quint16 = np.dtype([(\"quint16\", np.uint16, 1)])\n",
      "/opt/conda/lib/python3.7/site-packages/tensorflow/python/framework/dtypes.py:530: FutureWarning: Passing (type, 1) or '1type' as a synonym of type is deprecated; in a future version of numpy, it will be understood as (type, (1,)) / '(1,)type'.\n",
      "  _np_qint32 = np.dtype([(\"qint32\", np.int32, 1)])\n",
      "/opt/conda/lib/python3.7/site-packages/tensorflow/python/framework/dtypes.py:535: FutureWarning: Passing (type, 1) or '1type' as a synonym of type is deprecated; in a future version of numpy, it will be understood as (type, (1,)) / '(1,)type'.\n",
      "  np_resource = np.dtype([(\"resource\", np.ubyte, 1)])\n",
      "Using TensorFlow backend.\n"
     ]
    },
    {
     "name": "stdout",
     "output_type": "stream",
     "text": [
      "1.13.1\n"
     ]
    }
   ],
   "source": [
    "# TensorFlow and tf.keras\n",
    "import tensorflow as tf\n",
    "#from tensorflow import keras\n",
    "#from tensorflow.keras import layers\n",
    "import pandas as pd\n",
    "\n",
    "import keras\n",
    "import keras.backend\n",
    "from keras import layers\n",
    "from keras import models\n",
    "import keras.utils\n",
    "\n",
    "print(tf.__version__)\n",
    "\n",
    "# Helper libraries\n",
    "import numpy as np\n",
    "import matplotlib.pyplot as plt\n",
    "from matplotlib.colors import LogNorm\n",
    "import math\n",
    "import time\n",
    "import h5py\n",
    "import sklearn\n",
    "from sklearn.utils import shuffle\n",
    "\n",
    "import os"
   ]
  },
  {
   "cell_type": "code",
   "execution_count": 2,
   "metadata": {},
   "outputs": [
    {
     "name": "stdout",
     "output_type": "stream",
     "text": [
      "[[1.]\n",
      " [1.]\n",
      " [1.]\n",
      " ...\n",
      " [0.]\n",
      " [0.]\n",
      " [0.]]\n"
     ]
    }
   ],
   "source": [
    "# testing data : 10,000 signal samples and 10,000 bkg samples\n",
    "traindata_sig = np.load('data/jetImages_signal.npz')\n",
    "traindata_bkg = np.load('data/jetImages_bkg.npz')\n",
    "testdata_sig = np.load('data/jetImages_signal_test.npz')\n",
    "testdata_bkg = np.load('data/jetImages_bkg_test.npz')\n",
    "trainlabels = np.concatenate((traindata_sig['labels'], traindata_bkg['labels']),axis=0)\n",
    "testlabels = np.concatenate((testdata_sig['labels'], testdata_bkg['labels']),axis=0)\n",
    "trainradii = np.concatenate((traindata_sig['radiilab'], traindata_bkg['radiilab']), axis = 0)\n",
    "traintheta = np.concatenate((traindata_sig['thetalab'], traindata_bkg['thetalab']), axis = 0)\n",
    "testradii = np.concatenate((testdata_sig['radiilab'], testdata_bkg['radiilab']), axis = 0)\n",
    "test_theta = np.concatenate((testdata_sig['thetalab'], testdata_bkg['thetalab']), axis = 0)\n",
    "trainz = np.concatenate((traindata_sig['zlab'], traindata_bkg['zlab']), axis = 0)\n",
    "testz = np.concatenate((testdata_sig['zlab'], testdata_bkg['zlab']), axis = 0)\n",
    "n_train = len(trainlabels)\n",
    "n_test = len(testlabels)\n",
    "print(testlabels)"
   ]
  },
  {
   "cell_type": "code",
   "execution_count": 3,
   "metadata": {},
   "outputs": [],
   "source": [
    "def build_model():\n",
    "    input1 = layers.Input(shape=(1,), name = 'z_input')\n",
    "    input2 = layers.Input(shape=(2,), name = 'radii_input')\n",
    "    input3 = layers.Input(shape=(1,), name = 'theta_input')\n",
    "    x = layers.concatenate(inputs = [input1, input2, input3],axis=-1, name = 'concat')\n",
    "    x = layers.Dense(64, activation=tf.nn.relu, name = 'relu1')(x)\n",
    "    x = layers.Dense(64, activation=tf.nn.relu, name = 'relu2')(x)\n",
    "    output = layers.Dense(1, activation=\"sigmoid\", name = 'sigmoid')(x)\n",
    "    model = models.Model(inputs=[input1, input2, input3], outputs=output)\n",
    "    model.compile(loss='binary_crossentropy',\n",
    "                optimizer='adam',\n",
    "                metrics=['binary_crossentropy', 'accuracy'])\n",
    "    return model"
   ]
  },
  {
   "cell_type": "code",
   "execution_count": 4,
   "metadata": {},
   "outputs": [
    {
     "name": "stdout",
     "output_type": "stream",
     "text": [
      "WARNING:tensorflow:From /opt/conda/lib/python3.7/site-packages/tensorflow/python/framework/op_def_library.py:263: colocate_with (from tensorflow.python.framework.ops) is deprecated and will be removed in a future version.\n",
      "Instructions for updating:\n",
      "Colocations handled automatically by placer.\n"
     ]
    }
   ],
   "source": [
    "MLP = build_model()"
   ]
  },
  {
   "cell_type": "code",
   "execution_count": 5,
   "metadata": {},
   "outputs": [
    {
     "name": "stdout",
     "output_type": "stream",
     "text": [
      "10/10 [==============================] - 0s 3ms/step\n",
      "[[0.5214882 ]\n",
      " [0.5269304 ]\n",
      " [0.5147805 ]\n",
      " [0.51708007]\n",
      " [0.5185894 ]\n",
      " [0.52441317]\n",
      " [0.5211524 ]\n",
      " [0.5239286 ]\n",
      " [0.51602817]\n",
      " [0.52162385]]\n",
      "[0.6527960896492004, 0.6527960896492004, 1.0]\n"
     ]
    }
   ],
   "source": [
    "example_labels = trainlabels[:10]\n",
    "example_radii = trainradii[:10]\n",
    "example_theta = traintheta[:10]\n",
    "example_z = trainz[:10]\n",
    "example_result = MLP.predict(x = [example_theta, example_radii, example_z])\n",
    "results = MLP.evaluate(x = [example_theta, example_radii, example_z], y = example_labels)\n",
    "print(example_result)\n",
    "print(results)"
   ]
  },
  {
   "cell_type": "code",
   "execution_count": 6,
   "metadata": {},
   "outputs": [
    {
     "name": "stdout",
     "output_type": "stream",
     "text": [
      "WARNING:tensorflow:From /opt/conda/lib/python3.7/site-packages/tensorflow/python/ops/math_ops.py:3066: to_int32 (from tensorflow.python.ops.math_ops) is deprecated and will be removed in a future version.\n",
      "Instructions for updating:\n",
      "Use tf.cast instead.\n",
      "\n",
      "Epoch 00001: val_loss improved from inf to 0.00296, saving model to model/MLP.h5\n",
      "\n",
      "Epoch 00002: val_loss improved from 0.00296 to 0.00044, saving model to model/MLP.h5\n",
      "\n",
      "Epoch 00003: val_loss improved from 0.00044 to 0.00007, saving model to model/MLP.h5\n",
      "\n",
      "Epoch 00004: val_loss improved from 0.00007 to 0.00003, saving model to model/MLP.h5\n",
      "\n",
      "Epoch 00005: val_loss improved from 0.00003 to 0.00001, saving model to model/MLP.h5\n",
      "\n",
      "Epoch 00006: val_loss improved from 0.00001 to 0.00001, saving model to model/MLP.h5\n",
      "\n",
      "Epoch 00007: val_loss improved from 0.00001 to 0.00001, saving model to model/MLP.h5\n",
      "\n",
      "Epoch 00008: val_loss improved from 0.00001 to 0.00000, saving model to model/MLP.h5\n",
      "\n",
      "Epoch 00009: val_loss improved from 0.00000 to 0.00000, saving model to model/MLP.h5\n",
      "\n",
      "Epoch 00010: val_loss improved from 0.00000 to 0.00000, saving model to model/MLP.h5\n",
      "\n",
      "Epoch 00011: val_loss improved from 0.00000 to 0.00000, saving model to model/MLP.h5\n",
      "\n",
      "Epoch 00012: val_loss improved from 0.00000 to 0.00000, saving model to model/MLP.h5\n",
      "\n",
      "Epoch 00013: val_loss did not improve from 0.00000\n",
      "\n",
      "Epoch 00014: val_loss improved from 0.00000 to 0.00000, saving model to model/MLP.h5\n",
      "\n",
      "Epoch 00015: val_loss improved from 0.00000 to 0.00000, saving model to model/MLP.h5\n",
      "\n",
      "Epoch 00016: val_loss improved from 0.00000 to 0.00000, saving model to model/MLP.h5\n",
      "\n",
      "Epoch 00017: val_loss did not improve from 0.00000\n",
      "\n",
      "Epoch 00018: val_loss improved from 0.00000 to 0.00000, saving model to model/MLP.h5\n",
      "\n",
      "Epoch 00019: val_loss improved from 0.00000 to 0.00000, saving model to model/MLP.h5\n",
      "\n",
      "Epoch 00020: val_loss improved from 0.00000 to 0.00000, saving model to model/MLP.h5\n"
     ]
    }
   ],
   "source": [
    "class PrintDot(keras.callbacks.Callback):\n",
    "    def on_epoch_end(self, epoch, logs):\n",
    "        if epoch % 100 == 0:\n",
    "            print('')\n",
    "        print('.', end='')\n",
    "    \n",
    "checkpoint_path = \"model/MLP.h5\"\n",
    "if not os.path.exists(\"model\"):\n",
    "    os.mkdir(\"model\")\n",
    "\n",
    "# Create checkpoint callback\n",
    "# cp_callback = tf.keras.callbacks.ModelCheckpoint(checkpoint_path, \n",
    "#                                                  save_best_only=True,\n",
    "#                                                  verbose=1)\n",
    "model_checkpoint = keras.callbacks.ModelCheckpoint(checkpoint_path, monitor='val_loss', \n",
    "                                   verbose=1, save_best_only=True, \n",
    "                                   save_weights_only=False, mode='auto', \n",
    "                                   period=1)    \n",
    "EPOCHS = 20\n",
    "early_stop = keras.callbacks.EarlyStopping(monitor='val_loss', patience=10)\n",
    "history = MLP.fit(\n",
    "  [traintheta, trainradii, trainz], trainlabels,\n",
    "  epochs=EPOCHS, validation_split = 0.2, verbose = 0,\n",
    "  callbacks=[early_stop, model_checkpoint])"
   ]
  },
  {
   "cell_type": "code",
   "execution_count": 7,
   "metadata": {},
   "outputs": [
    {
     "name": "stdout",
     "output_type": "stream",
     "text": [
      "4MLP.h5\t\t\tMLP.h5\t\t\t\t  RNN_5GRU.h5\n",
      "CNN_cat_multi_input.h5\tRNN_1dense_4GRU.h5\t\t  RNN.h5\n",
      "CNN_class_leakyrelu.h5\tRNN_2x2048_2x512_1batchrenorm.h5  RNN_jetqandml.h5\n",
      "CNN_sparce_cat.h5\tRNN_4GRU_gradclip.h5\n",
      "CNN_test.h5\t\tRNN_4GRU.h5\n",
      "__________________________________________________________________________________________________\n",
      "Layer (type)                    Output Shape         Param #     Connected to                     \n",
      "==================================================================================================\n",
      "z_input (InputLayer)            (None, 1)            0                                            \n",
      "__________________________________________________________________________________________________\n",
      "radii_input (InputLayer)        (None, 2)            0                                            \n",
      "__________________________________________________________________________________________________\n",
      "theta_input (InputLayer)        (None, 1)            0                                            \n",
      "__________________________________________________________________________________________________\n",
      "concat (Concatenate)            (None, 4)            0           z_input[0][0]                    \n",
      "                                                                 radii_input[0][0]                \n",
      "                                                                 theta_input[0][0]                \n",
      "__________________________________________________________________________________________________\n",
      "relu1 (Dense)                   (None, 64)           320         concat[0][0]                     \n",
      "__________________________________________________________________________________________________\n",
      "relu2 (Dense)                   (None, 64)           4160        relu1[0][0]                      \n",
      "__________________________________________________________________________________________________\n",
      "sigmoid (Dense)                 (None, 1)            65          relu2[0][0]                      \n",
      "==================================================================================================\n",
      "Total params: 4,545\n",
      "Trainable params: 4,545\n",
      "Non-trainable params: 0\n",
      "__________________________________________________________________________________________________\n",
      "20000/20000 [==============================] - 0s 21us/step\n",
      "[3.531950433739439e-07, 3.531950433739439e-07, 1.0]\n"
     ]
    }
   ],
   "source": [
    "!ls model\n",
    "best_model = keras.models.load_model('model/MLP.h5')\n",
    "best_model.summary()\n",
    "results = best_model.evaluate([test_theta, testradii, testz], testlabels)\n",
    "print(results)"
   ]
  },
  {
   "cell_type": "code",
   "execution_count": 8,
   "metadata": {},
   "outputs": [
    {
     "data": {
      "image/png": "[encoded data removed]",
      "text/plain": [
       "<Figure size 432x288 with 1 Axes>"
      ]
     },
     "metadata": {
      "needs_background": "light"
     },
     "output_type": "display_data"
    }
   ],
   "source": [
    "# Plot ROC\n",
    "predict = best_model.predict([test_theta, testradii, testz])\n",
    "from sklearn.metrics import roc_curve, auc\n",
    "\n",
    "fpr, tpr, thresholds = roc_curve(testlabels, predict)\n",
    "roc_auc = auc(fpr, tpr)\n",
    "plt.plot(fpr, tpr, lw=2, color='b', label='auc = %.3f' % (roc_auc))\n",
    "plt.plot([0, 1], [0, 1], linestyle='--', lw=2, color='k', label='random chance')\n",
    "plt.xlim([0, 1.0])\n",
    "plt.ylim([0, 1.0])\n",
    "plt.xlabel('false positive rate')\n",
    "plt.ylabel('true positive rate')\n",
    "plt.title('ROC for signal')\n",
    "plt.legend(loc=\"lower right\")\n",
    "plt.show()\n",
    "# fpr, tpr, thresholds = roc_curve(testlabels[1], predict[:,1])\n",
    "# roc_auc = auc(fpr, tpr)\n",
    "# plt.plot(fpr, tpr, lw=2, color='b', label='auc = %.3f' % (roc_auc))\n",
    "# plt.plot([0, 1], [0, 1], linestyle='--', lw=2, color='k', label='random chance')\n",
    "# plt.xlim([0, 1.0])\n",
    "# plt.ylim([0, 1.0])\n",
    "# plt.xlabel('false positive rate')\n",
    "# plt.ylabel('true positive rate')\n",
    "# plt.title('ROC for signal')\n",
    "# plt.legend(loc=\"lower right\")\n",
    "# plt.show()"
   ]
  },
  {
   "cell_type": "code",
   "execution_count": 9,
   "metadata": {},
   "outputs": [
    {
     "data": {
      "image/png": "[encoded data removed]",
      "text/plain": [
       "<Figure size 432x288 with 1 Axes>"
      ]
     },
     "metadata": {
      "needs_background": "light"
     },
     "output_type": "display_data"
    }
   ],
   "source": [
    "plt.hist([predict[:int(len(predict)/2), 0].flatten(), predict[int(len(predict)/2):, 0].flatten()] ,\n",
    "         color = ['blue', 'red'], histtype = 'step', label = ['signal', 'background'])\n",
    "plt.legend()\n",
    "plt.show()"
   ]
  },
  {
   "cell_type": "code",
   "execution_count": 10,
   "metadata": {},
   "outputs": [],
   "source": [
    "import innvestigate\n",
    "import innvestigate.utils as iutils"
   ]
  },
  {
   "cell_type": "code",
   "execution_count": 11,
   "metadata": {},
   "outputs": [
    {
     "name": "stdout",
     "output_type": "stream",
     "text": [
      "WARNING:tensorflow:From /opt/conda/lib/python3.7/site-packages/tensorflow/python/ops/math_grad.py:102: div (from tensorflow.python.ops.math_ops) is deprecated and will be removed in a future version.\n",
      "Instructions for updating:\n",
      "Deprecated in favor of operator or tf.math.divide.\n",
      "[array([[0.44167516]], dtype=float32), array([[0.308116  , 0.23575094]], dtype=float32), array([[-0.9217951]], dtype=float32)]\n"
     ]
    }
   ],
   "source": [
    "# Create model without trailing softmax\n",
    "# model_wo_softmax = iutils.keras.graph.model_wo_softmax(best_model)\n",
    "# Creating an analyzer\n",
    "lrp_analyzer = innvestigate.create_analyzer(\"lrp.z\", best_model)\n",
    "# Applying the analyzer\n",
    "display = [traintheta[1], trainradii[1].reshape(1,2), trainz[1]] #the reshape is this way is because the input is expected to be 4 dimensions\n",
    "analysis = lrp_analyzer.analyze(display)\n",
    "print(analysis)"
   ]
  },
  {
   "cell_type": "code",
   "execution_count": 12,
   "metadata": {},
   "outputs": [
    {
     "name": "stdout",
     "output_type": "stream",
     "text": [
      "\n",
      " time = \n",
      " 10.175228595733643\n"
     ]
    }
   ],
   "source": [
    "toc = time.time()\n",
    "def display(i):\n",
    "    return [traintheta[i], trainradii[i].reshape(1,2), trainz[i]]\n",
    "analysis = [lrp_analyzer.analyze( display(i) )for i in range(n_train)]\n",
    "\n",
    "tic = time.time()\n",
    "#usually takes ~100 seconds\n",
    "print('\\n time = \\n', tic-toc)"
   ]
  },
  {
   "cell_type": "code",
   "execution_count": 13,
   "metadata": {},
   "outputs": [
    {
     "name": "stdout",
     "output_type": "stream",
     "text": [
      "[array([[0.5111576]], dtype=float32), array([[0.3080892 , 0.26497272]], dtype=float32), array([[-1.0815064]], dtype=float32)]\n",
      "Relevance of theta: 0.5111576\n",
      "Relevance of radius 1: 0.3080892\n",
      "Relevance of radius 2: 0.26497272\n",
      "Relevance of z: -1.0815064\n",
      "[ 2.71308422e-03  6.37469292e-02 -2.17226386e-01 ...  2.88818214e-08\n",
      "  2.22689334e-09  7.78517251e-09]\n",
      "0\n"
     ]
    }
   ],
   "source": [
    "print(analysis[0])\n",
    "print( \"Relevance of theta:\", analysis[0][0][0][0])\n",
    "print(\"Relevance of radius 1:\", analysis[0][1][0][0])\n",
    "print(\"Relevance of radius 2:\", analysis[0][1][0][1])\n",
    "print(\"Relevance of z:\",  analysis[0][2][0][0])\n",
    "total_rel = np.ndarray(shape=(20000,))\n",
    "for i in range(len(predict)):\n",
    "    total_rel[i] = np.sum(analysis[i][0]) + np.sum(analysis[i][1]) + np.sum(analysis[i][2])\n",
    "zeros = 0\n",
    "for i in range(len(predict)):\n",
    "    if total_rel[i] == 0.0:\n",
    "        zeros+=1\n",
    "print(total_rel)\n",
    "print(zeros)"
   ]
  },
  {
   "cell_type": "code",
   "execution_count": 14,
   "metadata": {},
   "outputs": [],
   "source": [
    "theta_analysis = np.ndarray(shape=(20000,))\n",
    "z_analysis = np.ndarray(shape=(20000,))\n",
    "radii1_analysis = np.ndarray(shape=(20000,))\n",
    "radii2_analysis = np.ndarray(shape=(20000,))\n",
    "\n",
    "for i in range(len(analysis)):\n",
    "    theta_analysis[i] = analysis[i][0][0][0]\n",
    "    z_analysis[i] = analysis[i][2][0][0]\n",
    "    radii1_analysis[i] = analysis[i][1][0][0]\n",
    "    radii2_analysis[i] = analysis[i][1][0][1]"
   ]
  },
  {
   "cell_type": "code",
   "execution_count": 15,
   "metadata": {},
   "outputs": [
    {
     "name": "stdout",
     "output_type": "stream",
     "text": [
      "signal inefficiency =  0 \n",
      "background inefficiency =  0\n",
      "\n",
      "time =\n",
      " 1.198061227798462\n",
      "signal efficiency =  0 \n",
      "background efficiency =  0\n"
     ]
    }
   ],
   "source": [
    "toc = time.time()\n",
    "        \n",
    "sig_anal_num = 0   \n",
    "sig_inef_num = 0\n",
    "bkg_anal_num = 0\n",
    "bkg_inef_num = 0\n",
    "sig_z_rel = np.empty(1,)\n",
    "bkg_z_rel = np.empty(1,)\n",
    "sig_theta_rel = np.empty(1,)\n",
    "bkg_theta_rel = np.empty(1,)\n",
    "sig_zlab = np.empty(1,)\n",
    "sig_thetalab = np.empty(1,)\n",
    "bkg_zlab = np.empty(1,)\n",
    "bkg_thetalab = np.empty(1,)\n",
    "sig_rad1 = np.empty(1,)\n",
    "sig_rad2 = np.empty(1,)\n",
    "bkg_rad1 = np.empty(1,)\n",
    "bkg_rad2 = np.empty(1,)\n",
    "\n",
    "\n",
    "for i in range(n_train):\n",
    "    if predict[i,0] > 0.50: #change to >\n",
    "        sig_zlab = np.append(sig_zlab, trainz[i])\n",
    "        sig_thetalab = np.append(sig_thetalab, traintheta[i])\n",
    "        sig_z_rel = np.append(sig_z_rel, z_analysis[i])\n",
    "        sig_theta_rel = np.append(sig_theta_rel, theta_analysis[i])\n",
    "    if predict[i,0] < 0.50:\n",
    "        bkg_zlab = np.append(bkg_zlab, trainz[i])\n",
    "        bkg_thetalab = np.append(bkg_thetalab, traintheta[i])\n",
    "        bkg_z_rel = np.append(bkg_z_rel, z_analysis[i])\n",
    "        bkg_theta_rel = np.append(bkg_theta_rel, theta_analysis[i])\n",
    "        #add storing of radii\n",
    "#     elif i >= int(len(predict)/2) and predict[i] > 0.50:\n",
    "#         bkg_inefficiency += analysis[i][0]\n",
    "#         bkg_inef_num += 1\n",
    "#         bkg_ineff_zlab = np.append(bkg_ineff_zlab, trainz[i])\n",
    "#         bkg_ineff_thetalab = np.append(bkg_ineff_thetalab, traintheta[i])\n",
    "        \n",
    "#normalizing relevance scores\n",
    "\n",
    "tic = time.time()\n",
    "print('signal inefficiency = ', sig_inef_num, '\\nbackground inefficiency = ', bkg_inef_num)\n",
    "print('\\ntime =\\n', tic-toc)\n",
    "print('signal efficiency = ', sig_anal_num, '\\nbackground efficiency = ', bkg_anal_num)"
   ]
  },
  {
   "cell_type": "code",
   "execution_count": 16,
   "metadata": {},
   "outputs": [
    {
     "data": {
      "image/png": "[encoded data removed]",
      "text/plain": [
       "<Figure size 1080x288 with 2 Axes>"
      ]
     },
     "metadata": {
      "needs_background": "light"
     },
     "output_type": "display_data"
    }
   ],
   "source": [
    "plt.figure(figsize = (15,4))\n",
    "plt.subplot(121)\n",
    "plt.hist([z_analysis[0:int(len(predict)/2)], z_analysis[int(len(predict)/2):-1]], bins = 24, histtype = 'step',\n",
    "         label = ['signal z','bkg z'])\n",
    "plt.xlabel('relevance of z')\n",
    "plt.legend()\n",
    "plt.subplot(122)\n",
    "plt.hist([theta_analysis[0:int(len(predict)/2)], theta_analysis[int(len(predict)/2):-1]], bins = 24,\n",
    "         histtype = 'step', label = ['signal theta','bkg theta'])\n",
    "plt.xlabel('relevance of theta')\n",
    "plt.legend()\n",
    "plt.show()"
   ]
  },
  {
   "cell_type": "code",
   "execution_count": 17,
   "metadata": {},
   "outputs": [],
   "source": [
    "n = 20\n",
    "z_array = np.zeros((n,n))\n",
    "theta_array = np.zeros((n,n))\n",
    "radii_array = np.zeros((n,n))\n",
    "bin_dim_x = 1.2/n\n",
    "bin_dim_y = 0.4/n\n",
    "rad_bin = 0.6/n\n",
    "trainz = trainz.flatten()\n",
    "traintheta = traintheta.flatten()\n",
    "for i in range(len(trainz)):\n",
    "    index_x = int(trainz[i]/bin_dim_x)\n",
    "    index_y = int(traintheta[i]/bin_dim_y)\n",
    "    z_array[index_y, index_x] = z_analysis[i]\n",
    "for i in range(len(traintheta)):\n",
    "    index_x = int(trainz[i]/bin_dim_x)\n",
    "    index_y = int(traintheta[i]/bin_dim_y)\n",
    "    theta_array[index_y, index_x] = theta_analysis[i]\n",
    "for i in range(len(trainradii)):\n",
    "    index_x = int(trainz[i]/bin_dim_x)#int(trainradii[i][0]/rad_bin)\n",
    "    index_y = int(traintheta[i]/bin_dim_y)#int(trainradii[i][1]/rad_bin)\n",
    "    radii_array[index_y, index_x] = radii1_analysis[i] + radii2_analysis[i]"
   ]
  },
  {
   "cell_type": "code",
   "execution_count": 18,
   "metadata": {},
   "outputs": [
    {
     "data": {
      "image/png": "[encoded data removed]",
      "text/plain": [
       "<Figure size 864x288 with 2 Axes>"
      ]
     },
     "metadata": {
      "needs_background": "light"
     },
     "output_type": "display_data"
    }
   ],
   "source": [
    "plt.figure(figsize = (12,4))\n",
    "plt.subplot(1,2,1)\n",
    "plt.imshow(radii_array, origin = 'low', cmap = \"RdBu\")\n",
    "x_ticks = np.arange(0,n,4)*bin_dim_x\n",
    "y_ticks = np.arange(0,n,4)*bin_dim_y\n",
    "plt.xticks(np.arange(0,n,4), np.round(x_ticks,3))\n",
    "plt.yticks(np.arange(0,n,4), np.round(y_ticks,3))\n",
    "plt.ylabel(\"Theta\")\n",
    "plt.xlabel(\"z\")\n",
    "plt.clim(-25,25)\n",
    "cbar = plt.colorbar()\n",
    "cbar.set_label('Total radii relevance')"
   ]
  },
  {
   "cell_type": "code",
   "execution_count": 19,
   "metadata": {},
   "outputs": [
    {
     "data": {
      "image/png": "[encoded data removed]",
      "text/plain": [
       "<Figure size 432x288 with 1 Axes>"
      ]
     },
     "metadata": {
      "needs_background": "light"
     },
     "output_type": "display_data"
    },
    {
     "data": {
      "image/png": "[encoded data removed]",
      "text/plain": [
       "<Figure size 432x288 with 1 Axes>"
      ]
     },
     "metadata": {
      "needs_background": "light"
     },
     "output_type": "display_data"
    },
    {
     "data": {
      "text/plain": [
       "<matplotlib.legend.Legend at 0x7fd6f0fa1128>"
      ]
     },
     "execution_count": 19,
     "metadata": {},
     "output_type": "execute_result"
    },
    {
     "data": {
      "image/png": "[encoded data removed]",
      "text/plain": [
       "<Figure size 432x288 with 1 Axes>"
      ]
     },
     "metadata": {
      "needs_background": "light"
     },
     "output_type": "display_data"
    }
   ],
   "source": [
    "plt.hist([z_analysis[:int(len(predict)/2)], z_analysis[int(len(predict)/2):], theta_analysis[:int(len(predict)/2)],\n",
    "          theta_analysis[int(len(predict)/2):], radii1_analysis[:int(len(predict)/2)]+radii2_analysis[:int(len(predict)/2)], radii1_analysis[int(len(predict)/2):]+radii2_analysis[int(len(predict)/2):]],bins = 20, color = ['blue', 'cyan', 'red', 'magenta', 'green', 'lime'],density=True,\n",
    "         histtype='stepfilled', alpha = 0.5,\n",
    "         label = ['z rel sig', 'z rel bkg', 'Theta rel sig', 'Theta rel bkg', 'radii rel sig', 'radii rel bkg'])\n",
    "plt.legend()\n",
    "plt.title(r'$\\theta$ and z relevance')\n",
    "plt.show()\n",
    "plt.hist([trainradii[:, 0], trainradii[:, 1]], histtype = 'stepfilled',alpha = 0.5)\n",
    "plt.show()\n",
    "plt.hist([radii1_analysis[:int(len(predict)/2)], radii1_analysis[int(len(predict)/2):]], histtype = 'stepfilled',alpha = 0.5, label = ['signal', 'background'])\n",
    "#LRP appears to falsely be giving relelvance to the radii, but it is a very low values\n",
    "plt.legend()\n"
   ]
  },
  {
   "cell_type": "code",
   "execution_count": 20,
   "metadata": {},
   "outputs": [
    {
     "data": {
      "image/png": "[encoded data removed]",
      "text/plain": [
       "<Figure size 864x288 with 4 Axes>"
      ]
     },
     "metadata": {
      "needs_background": "light"
     },
     "output_type": "display_data"
    }
   ],
   "source": [
    "#makes it so that I can use Latex in the labels\n",
    "plt.figure(figsize = (12,4))\n",
    "plt.subplot(1,2,1)\n",
    "plt.imshow(z_array, origin = 'low', cmap =\"RdBu\")\n",
    "x_ticks = np.arange(0,n,4)*bin_dim_x\n",
    "y_ticks = np.arange(0,n,4)*bin_dim_y\n",
    "plt.xticks(np.arange(0,n,4), np.round(x_ticks, 2))\n",
    "plt.yticks(np.arange(0,n,4), np.round(y_ticks,2))\n",
    "plt.ylabel(\"Theta\")\n",
    "plt.xlabel(\"z\")\n",
    "plt.clim(-25,25)\n",
    "cbar = plt.colorbar()\n",
    "cbar.set_label('z relevance (lrp.z)')\n",
    "plt.subplot(1,2,2)\n",
    "plt.imshow(theta_array, origin = 'low', cmap =\"RdBu\")\n",
    "x_ticks = np.arange(0,n,4)*bin_dim_x\n",
    "y_ticks = np.arange(0,n,4)*bin_dim_y\n",
    "plt.xticks(np.arange(0,n,4), np.round(x_ticks,3))\n",
    "plt.yticks(np.arange(0,n,4), np.round(y_ticks,3))\n",
    "plt.ylabel(\"Theta\")\n",
    "plt.xlabel(\"z\")\n",
    "plt.clim(-25,25)\n",
    "cbar = plt.colorbar()\n",
    "cbar.set_label('theta relevance (lrp.z)')\n",
    "plt.show()\n"
   ]
  },
  {
   "cell_type": "code",
   "execution_count": 21,
   "metadata": {},
   "outputs": [
    {
     "data": {
      "image/png": "[encoded data removed]",
      "text/plain": [
       "<Figure size 864x288 with 2 Axes>"
      ]
     },
     "metadata": {
      "needs_background": "light"
     },
     "output_type": "display_data"
    },
    {
     "data": {
      "image/png": "[encoded data removed]",
      "text/plain": [
       "<Figure size 864x288 with 2 Axes>"
      ]
     },
     "metadata": {
      "needs_background": "light"
     },
     "output_type": "display_data"
    }
   ],
   "source": [
    "w_z_z, edges = np.histogram(trainz, weights = z_analysis, bins = 16)\n",
    "w_z_theta, edges = np.histogram(trainz, weights = theta_analysis, bins = 16)\n",
    "half_bin = (edges[1]-edges[0])/2\n",
    "x = edges[0:-1]+half_bin\n",
    "plt.figure(figsize = (12,4))\n",
    "plt.subplot(1,2,1)\n",
    "plt.hist([sig_zlab[:], bkg_zlab[:]], bins = 24, range = [0.45,1.05],\n",
    "         color = ['b', 'r'], histtype = 'step', label = ['signal z', 'background z'])\n",
    "plt.legend()\n",
    "plt.xlabel(\"z\")\n",
    "plt.title('Un-weighted z values')\n",
    "plt.subplot(1,2,2)\n",
    "plt.scatter(x, w_z_z, c = '0', label = 'weighted by z rel')\n",
    "plt.scatter(x, w_z_theta, c = 'cyan', label = 'weighted by theta rel')\n",
    "plt.xlabel(\"z\")\n",
    "plt.title(\"z values weighted by relevance\")\n",
    "plt.legend()\n",
    "plt.show()\n",
    "\n",
    "w_theta_z, edges = np.histogram(traintheta, weights = z_analysis, bins = 16)\n",
    "w_theta_theta, edges = np.histogram(traintheta, weights = theta_analysis, bins = 16)\n",
    "half_bin = (edges[1]-edges[0])/2\n",
    "x = edges[0:-1]+half_bin\n",
    "plt.figure(figsize = (12,4))\n",
    "plt.subplot(1,2,1)\n",
    "plt.hist([sig_thetalab[:], bkg_thetalab[:]], bins = 24, range = [0.0, 0.3],\n",
    "         color = ['b', 'r'], histtype = 'step', label = ['signal z', 'background z'])\n",
    "plt.legend()\n",
    "plt.title(\"Un-weighted theta values\")\n",
    "plt.xlabel(\"Theta\")\n",
    "plt.subplot(1,2,2)\n",
    "plt.scatter(x, w_theta_z, c = '0', label = 'weighted by z rel')\n",
    "plt.scatter(x, w_theta_theta, c = 'cyan', label = 'weighted by theta rel')\n",
    "plt.title(\"Theta values weighted by relevance\")\n",
    "plt.xlabel('Theta')\n",
    "plt.legend()\n",
    "plt.show()\n",
    "\n",
    "#ADD RADII RELEVANCE"
   ]
  },
  {
   "cell_type": "code",
   "execution_count": null,
   "metadata": {},
   "outputs": [],
   "source": []
  },
  {
   "cell_type": "code",
   "execution_count": null,
   "metadata": {},
   "outputs": [],
   "source": []
  }
 ],
 "metadata": {
  "kernelspec": {
   "display_name": "Python 3",
   "language": "python",
   "name": "python3"
  },
  "language_info": {
   "codemirror_mode": {
    "name": "ipython",
    "version": 3
   },
   "file_extension": ".py",
   "mimetype": "text/x-python",
   "name": "python",
   "nbconvert_exporter": "python",
   "pygments_lexer": "ipython3",
   "version": "3.7.3"
  }
 },
 "nbformat": 4,
 "nbformat_minor": 2
}
