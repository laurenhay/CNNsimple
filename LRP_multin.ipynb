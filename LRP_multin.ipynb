{
 "cells": [
  {
   "cell_type": "code",
   "execution_count": 1,
   "metadata": {},
   "outputs": [
    {
     "name": "stderr",
     "output_type": "stream",
     "text": [
      "/opt/conda/lib/python3.7/site-packages/tensorflow/python/framework/dtypes.py:526: FutureWarning: Passing (type, 1) or '1type' as a synonym of type is deprecated; in a future version of numpy, it will be understood as (type, (1,)) / '(1,)type'.\n",
      "  _np_qint8 = np.dtype([(\"qint8\", np.int8, 1)])\n",
      "/opt/conda/lib/python3.7/site-packages/tensorflow/python/framework/dtypes.py:527: FutureWarning: Passing (type, 1) or '1type' as a synonym of type is deprecated; in a future version of numpy, it will be understood as (type, (1,)) / '(1,)type'.\n",
      "  _np_quint8 = np.dtype([(\"quint8\", np.uint8, 1)])\n",
      "/opt/conda/lib/python3.7/site-packages/tensorflow/python/framework/dtypes.py:528: FutureWarning: Passing (type, 1) or '1type' as a synonym of type is deprecated; in a future version of numpy, it will be understood as (type, (1,)) / '(1,)type'.\n",
      "  _np_qint16 = np.dtype([(\"qint16\", np.int16, 1)])\n",
      "/opt/conda/lib/python3.7/site-packages/tensorflow/python/framework/dtypes.py:529: FutureWarning: Passing (type, 1) or '1type' as a synonym of type is deprecated; in a future version of numpy, it will be understood as (type, (1,)) / '(1,)type'.\n",
      "  _np_quint16 = np.dtype([(\"quint16\", np.uint16, 1)])\n",
      "/opt/conda/lib/python3.7/site-packages/tensorflow/python/framework/dtypes.py:530: FutureWarning: Passing (type, 1) or '1type' as a synonym of type is deprecated; in a future version of numpy, it will be understood as (type, (1,)) / '(1,)type'.\n",
      "  _np_qint32 = np.dtype([(\"qint32\", np.int32, 1)])\n",
      "/opt/conda/lib/python3.7/site-packages/tensorflow/python/framework/dtypes.py:535: FutureWarning: Passing (type, 1) or '1type' as a synonym of type is deprecated; in a future version of numpy, it will be understood as (type, (1,)) / '(1,)type'.\n",
      "  np_resource = np.dtype([(\"resource\", np.ubyte, 1)])\n",
      "Using TensorFlow backend.\n"
     ]
    },
    {
     "name": "stdout",
     "output_type": "stream",
     "text": [
      "1.13.1\n"
     ]
    }
   ],
   "source": [
    "# TensorFlow and tf.keras\n",
    "\n",
    "import tensorflow as tf\n",
    "\n",
    "# from tensorflow import keras\n",
    "# from tensorflow.keras import layers\n",
    "# from tensorflow.keras import models\n",
    "# import tensorflow.keras.utils\n",
    "# import pandas as pd\n",
    "\n",
    "import keras\n",
    "import keras.backend\n",
    "from keras import layers\n",
    "from keras import models\n",
    "import keras.utils\n",
    "\n",
    "print(tf.__version__)\n",
    "\n",
    "# Helper libraries\n",
    "import numpy as np\n",
    "import matplotlib.pyplot as plt\n",
    "from matplotlib.colors import LogNorm\n",
    "import math\n",
    "import time\n",
    "import h5py\n",
    "import sklearn\n",
    "from sklearn.utils import shuffle\n",
    "\n",
    "import os"
   ]
  },
  {
   "cell_type": "code",
   "execution_count": 2,
   "metadata": {},
   "outputs": [],
   "source": [
    "grid = 32\n",
    "# training data : 10,000 signal samples and 10,000 bkg samples\n",
    "traindata_sig = np.load('data/jetImages_signal.npz')\n",
    "traindata_bkg = np.load('data/jetImages_bkg.npz')\n",
    "trainimages = np.concatenate((traindata_sig['jetImages'], traindata_bkg['jetImages']),axis=0)\n",
    "trainlabels = np.concatenate((traindata_sig['labels'],traindata_bkg['labels']),axis=0)\n",
    "# testing data : 10,000 signal samples and 10,000 bkg samples\n",
    "testdata_sig = np.load('data/jetImages_signal_test.npz')\n",
    "testdata_bkg = np.load('data/jetImages_bkg_test.npz')\n",
    "testimages = np.concatenate((testdata_sig['jetImages'], testdata_bkg['jetImages']),axis=0)\n",
    "testlabels = np.concatenate((testdata_sig['labels'], testdata_bkg['labels']),axis=0)\n",
    "trainradii = np.concatenate((traindata_sig['radiilab'], traindata_bkg['radiilab']), axis = 0)\n",
    "traintheta = np.concatenate((traindata_sig['thetalab'], traindata_bkg['thetalab']), axis = 0)\n",
    "testradii = np.concatenate((testdata_sig['radiilab'], testdata_bkg['radiilab']), axis = 0)\n",
    "test_theta = np.concatenate((testdata_sig['thetalab'], testdata_bkg['thetalab']), axis = 0)\n",
    "trainz = np.concatenate((traindata_sig['zlab'], traindata_bkg['zlab']), axis = 0)\n",
    "testz = np.concatenate((testdata_sig['zlab'], testdata_bkg['zlab']), axis = 0)\n",
    "n_train = len(trainlabels)\n",
    "n_test = len(testlabels)\n",
    "trainimages = trainimages.reshape(n_train, grid, grid, 1)\n",
    "testimages = testimages.reshape(n_test, grid, grid, 1)"
   ]
  },
  {
   "cell_type": "code",
   "execution_count": 3,
   "metadata": {},
   "outputs": [
    {
     "data": {
      "image/png": "[encoded data removed]",
      "text/plain": [
       "<Figure size 432x288 with 2 Axes>"
      ]
     },
     "metadata": {
      "needs_background": "light"
     },
     "output_type": "display_data"
    }
   ],
   "source": [
    "#plot input signal and background\n",
    "sig_trainimages = np.zeros_like(trainimages[1])\n",
    "bkg_trainimages = np.zeros_like(trainimages[1])\n",
    "for i in range(len(trainimages)):\n",
    "    if testlabels[i] == 1:\n",
    "        sig_trainimages += trainimages[i]\n",
    "    else:\n",
    "        bkg_trainimages += trainimages[i]\n",
    "#signal\n",
    "display_sig = sig_trainimages.reshape(grid,grid)\n",
    "plt.grid(False)\n",
    "plt.imshow(display_sig, interpolation='nearest', origin='low', cmap = 'jet', norm=LogNorm())\n",
    "plt.colorbar()\n",
    "plt.show()"
   ]
  },
  {
   "cell_type": "code",
   "execution_count": 4,
   "metadata": {},
   "outputs": [
    {
     "data": {
      "image/png": "[encoded data removed]",
      "text/plain": [
       "<Figure size 432x288 with 2 Axes>"
      ]
     },
     "metadata": {
      "needs_background": "light"
     },
     "output_type": "display_data"
    }
   ],
   "source": [
    "#background\n",
    "display_bkg = bkg_trainimages.reshape(grid,grid)\n",
    "plt.grid(False)\n",
    "plt.imshow(display_bkg, interpolation='nearest', origin='low', cmap = 'jet', norm=LogNorm())\n",
    "plt.colorbar()\n",
    "plt.show()"
   ]
  },
  {
   "cell_type": "code",
   "execution_count": 5,
   "metadata": {},
   "outputs": [
    {
     "name": "stdout",
     "output_type": "stream",
     "text": [
      "WARNING:tensorflow:From /opt/conda/lib/python3.7/site-packages/tensorflow/python/framework/op_def_library.py:263: colocate_with (from tensorflow.python.framework.ops) is deprecated and will be removed in a future version.\n",
      "Instructions for updating:\n",
      "Colocations handled automatically by placer.\n",
      "WARNING:tensorflow:From /opt/conda/lib/python3.7/site-packages/tensorflow/python/ops/math_ops.py:3066: to_int32 (from tensorflow.python.ops.math_ops) is deprecated and will be removed in a future version.\n",
      "Instructions for updating:\n",
      "Use tf.cast instead.\n",
      "__________________________________________________________________________________________________\n",
      "Layer (type)                    Output Shape         Param #     Connected to                     \n",
      "==================================================================================================\n",
      "input_5 (InputLayer)            (None, 32, 32, 1)    0                                            \n",
      "__________________________________________________________________________________________________\n",
      "conv2d_5 (Conv2D)               (None, 22, 22, 32)   3904        input_5[0][0]                    \n",
      "__________________________________________________________________________________________________\n",
      "conv2d_6 (Conv2D)               (None, 20, 20, 32)   9248        conv2d_5[0][0]                   \n",
      "__________________________________________________________________________________________________\n",
      "max_pooling2d_3 (MaxPooling2D)  (None, 10, 10, 32)   0           conv2d_6[0][0]                   \n",
      "__________________________________________________________________________________________________\n",
      "conv2d_7 (Conv2D)               (None, 8, 8, 32)     9248        max_pooling2d_3[0][0]            \n",
      "__________________________________________________________________________________________________\n",
      "conv2d_8 (Conv2D)               (None, 6, 6, 32)     9248        conv2d_7[0][0]                   \n",
      "__________________________________________________________________________________________________\n",
      "max_pooling2d_4 (MaxPooling2D)  (None, 3, 3, 32)     0           conv2d_8[0][0]                   \n",
      "__________________________________________________________________________________________________\n",
      "flatten_2 (Flatten)             (None, 288)          0           max_pooling2d_4[0][0]            \n",
      "__________________________________________________________________________________________________\n",
      "input_6 (InputLayer)            (None, 1)            0                                            \n",
      "__________________________________________________________________________________________________\n",
      "input_7 (InputLayer)            (None, 2)            0                                            \n",
      "__________________________________________________________________________________________________\n",
      "input_8 (InputLayer)            (None, 1)            0                                            \n",
      "__________________________________________________________________________________________________\n",
      "concatenate_2 (Concatenate)     (None, 292)          0           flatten_2[0][0]                  \n",
      "                                                                 input_6[0][0]                    \n",
      "                                                                 input_7[0][0]                    \n",
      "                                                                 input_8[0][0]                    \n",
      "__________________________________________________________________________________________________\n",
      "dense_1 (Dense)                 (None, 64)           18752       concatenate_2[0][0]              \n",
      "__________________________________________________________________________________________________\n",
      "dense_2 (Dense)                 (None, 64)           4160        dense_1[0][0]                    \n",
      "__________________________________________________________________________________________________\n",
      "dense_3 (Dense)                 (None, 1)            65          dense_2[0][0]                    \n",
      "==================================================================================================\n",
      "Total params: 54,625\n",
      "Trainable params: 54,625\n",
      "Non-trainable params: 0\n",
      "__________________________________________________________________________________________________\n",
      "20000/20000 [==============================] - 4s 186us/step\n",
      "[8.129052361300637e-06, 8.129052361300637e-06, 1.0]\n"
     ]
    }
   ],
   "source": [
    "# !ls training\n",
    "best_model = keras.models.load_model('model/CNN_cat_multi_input.h5')\n",
    "best_model.summary()\n",
    "results = best_model.evaluate([testimages, test_theta, testradii, testz], testlabels)\n",
    "print(results)"
   ]
  },
  {
   "cell_type": "code",
   "execution_count": 59,
   "metadata": {
    "scrolled": true
   },
   "outputs": [
    {
     "name": "stdout",
     "output_type": "stream",
     "text": [
      "(20000, 1) (20000, 1)\n"
     ]
    },
    {
     "data": {
      "image/png": "[encoded data removed]",
      "text/plain": [
       "<Figure size 432x288 with 1 Axes>"
      ]
     },
     "metadata": {
      "needs_background": "light"
     },
     "output_type": "display_data"
    },
    {
     "name": "stdout",
     "output_type": "stream",
     "text": [
      "[[1.]\n",
      " [1.]\n",
      " [1.]\n",
      " ...\n",
      " [0.]\n",
      " [0.]\n",
      " [0.]]\n"
     ]
    }
   ],
   "source": [
    "# Plot ROC\n",
    "predict = best_model.predict([testimages, test_theta, testradii, testz])\n",
    "print(testlabels.shape, predict.shape)\n",
    "from sklearn.metrics import roc_curve, auc\n",
    "fpr, tpr, thresholds = roc_curve(testlabels, predict)\n",
    "roc_auc = auc(fpr, tpr)\n",
    "plt.plot(fpr, tpr, lw=2, color='blue', label='auc = %.3f' % (roc_auc))\n",
    "plt.plot([0, 1], [0, 1], linestyle='--', lw=2, color='k', label='random chance')\n",
    "plt.xlim([0, 1.0])\n",
    "plt.ylim([0, 1.0])\n",
    "plt.xlabel('false positive rate')\n",
    "plt.ylabel('true positive rate')\n",
    "plt.title('receiver operating curve')\n",
    "plt.legend(loc=\"lower right\")\n",
    "plt.show()\n",
    "print(predict)"
   ]
  },
  {
   "cell_type": "code",
   "execution_count": 7,
   "metadata": {},
   "outputs": [],
   "source": [
    "import innvestigate\n",
    "import innvestigate.utils as iutils"
   ]
  },
  {
   "cell_type": "code",
   "execution_count": 8,
   "metadata": {},
   "outputs": [
    {
     "name": "stdout",
     "output_type": "stream",
     "text": [
      "[[0.49883253 0.3112263 ]]\n"
     ]
    }
   ],
   "source": [
    "# Creating an analyzer\n",
    "lrp_analyzer = innvestigate.create_analyzer(\"lrp.z\", best_model)\n",
    "print(trainradii[1].reshape(1,2))\n",
    "# Applying the analyzer\n",
    "# display = [trainimages[1].reshape(1,grid,grid,1), traintheta[1], trainradii[1].reshape(1,2), trainz[1]] #the reshape is this way is because the input is expected to be 4 dimensions\n",
    "# analysis = lrp_analyzer.analyze(display)\n",
    "\n",
    "# # Displaying one result\n",
    "# plt.imshow(analysis[0].reshape(grid, grid), cmap='Reds', origin = 'low', interpolation='nearest')\n",
    "# plt.colorbar()\n",
    "# plt.clim(-0.6, 0.6)\n",
    "# plt.show()"
   ]
  },
  {
   "cell_type": "code",
   "execution_count": 9,
   "metadata": {},
   "outputs": [
    {
     "data": {
      "image/png": "[encoded data removed]",
      "text/plain": [
       "<Figure size 432x288 with 1 Axes>"
      ]
     },
     "metadata": {
      "needs_background": "light"
     },
     "output_type": "display_data"
    }
   ],
   "source": [
    "plt.hist([predict[:int(len(predict)/2)].flatten(), predict[int(len(predict)/2):].flatten()] ,\n",
    "         color = ['blue', 'red'], histtype = 'step', label = ['signal', 'background'])\n",
    "plt.yscale('log')\n",
    "plt.legend()\n",
    "plt.show()"
   ]
  },
  {
   "cell_type": "code",
   "execution_count": 10,
   "metadata": {},
   "outputs": [
    {
     "name": "stdout",
     "output_type": "stream",
     "text": [
      "WARNING:tensorflow:From /opt/conda/lib/python3.7/site-packages/tensorflow/python/ops/math_grad.py:102: div (from tensorflow.python.ops.math_ops) is deprecated and will be removed in a future version.\n",
      "Instructions for updating:\n",
      "Deprecated in favor of operator or tf.math.divide.\n",
      "\n",
      " time = \n",
      " 45.46532964706421\n"
     ]
    }
   ],
   "source": [
    "toc = time.time()\n",
    "def display(i):\n",
    "    return [trainimages[i].reshape(1,grid,grid,1), traintheta[i], trainradii[i].reshape(1,2), trainz[i]]\n",
    "analysis = [lrp_analyzer.analyze(display(i)) for i in range(len(trainimages))]\n",
    "\n",
    "tic = time.time()\n",
    "\n",
    "print('\\n time = \\n', tic-toc)\n"
   ]
  },
  {
   "cell_type": "code",
   "execution_count": 31,
   "metadata": {},
   "outputs": [
    {
     "name": "stdout",
     "output_type": "stream",
     "text": [
      "[[ 0.]\n",
      " [ 0.]\n",
      " [-0.]\n",
      " [ 0.]\n",
      " [-0.]\n",
      " [ 0.]\n",
      " [ 0.]\n",
      " [ 0.]\n",
      " [ 0.]\n",
      " [ 0.]\n",
      " [ 0.]\n",
      " [ 0.]\n",
      " [-0.]\n",
      " [ 0.]\n",
      " [-0.]\n",
      " [-0.]\n",
      " [ 0.]\n",
      " [ 0.]\n",
      " [-0.]\n",
      " [-0.]\n",
      " [ 0.]\n",
      " [ 0.]\n",
      " [-0.]\n",
      " [ 0.]\n",
      " [ 0.]\n",
      " [-0.]\n",
      " [ 0.]\n",
      " [ 0.]\n",
      " [ 0.]\n",
      " [ 0.]\n",
      " [ 0.]\n",
      " [ 0.]]\n",
      "Relevance of theta: [array([[[[ 0.],\n",
      "         [ 0.],\n",
      "         [-0.],\n",
      "         ...,\n",
      "         [ 0.],\n",
      "         [ 0.],\n",
      "         [ 0.]],\n",
      "\n",
      "        [[ 0.],\n",
      "         [ 0.],\n",
      "         [ 0.],\n",
      "         ...,\n",
      "         [ 0.],\n",
      "         [ 0.],\n",
      "         [ 0.]],\n",
      "\n",
      "        [[-0.],\n",
      "         [-0.],\n",
      "         [ 0.],\n",
      "         ...,\n",
      "         [ 0.],\n",
      "         [ 0.],\n",
      "         [ 0.]],\n",
      "\n",
      "        ...,\n",
      "\n",
      "        [[-0.],\n",
      "         [-0.],\n",
      "         [-0.],\n",
      "         ...,\n",
      "         [-0.],\n",
      "         [ 0.],\n",
      "         [ 0.]],\n",
      "\n",
      "        [[ 0.],\n",
      "         [-0.],\n",
      "         [-0.],\n",
      "         ...,\n",
      "         [ 0.],\n",
      "         [ 0.],\n",
      "         [ 0.]],\n",
      "\n",
      "        [[ 0.],\n",
      "         [-0.],\n",
      "         [-0.],\n",
      "         ...,\n",
      "         [ 0.],\n",
      "         [ 0.],\n",
      "         [ 0.]]]], dtype=float32), array([[0.2711235]], dtype=float32), array([[-0.00550917,  0.06204739]], dtype=float32), array([[-0.44673377]], dtype=float32)]\n",
      "Relevance of radius 1: [array([[[[ 0.],\n",
      "         [-0.],\n",
      "         [ 0.],\n",
      "         ...,\n",
      "         [-0.],\n",
      "         [-0.],\n",
      "         [-0.]],\n",
      "\n",
      "        [[ 0.],\n",
      "         [ 0.],\n",
      "         [ 0.],\n",
      "         ...,\n",
      "         [ 0.],\n",
      "         [ 0.],\n",
      "         [ 0.]],\n",
      "\n",
      "        [[ 0.],\n",
      "         [ 0.],\n",
      "         [ 0.],\n",
      "         ...,\n",
      "         [ 0.],\n",
      "         [ 0.],\n",
      "         [ 0.]],\n",
      "\n",
      "        ...,\n",
      "\n",
      "        [[-0.],\n",
      "         [-0.],\n",
      "         [-0.],\n",
      "         ...,\n",
      "         [ 0.],\n",
      "         [-0.],\n",
      "         [-0.]],\n",
      "\n",
      "        [[ 0.],\n",
      "         [-0.],\n",
      "         [ 0.],\n",
      "         ...,\n",
      "         [-0.],\n",
      "         [-0.],\n",
      "         [ 0.]],\n",
      "\n",
      "        [[ 0.],\n",
      "         [ 0.],\n",
      "         [ 0.],\n",
      "         ...,\n",
      "         [ 0.],\n",
      "         [-0.],\n",
      "         [ 0.]]]], dtype=float32), array([[0.2414783]], dtype=float32), array([[-0.00618643,  0.05803582]], dtype=float32), array([[-0.41449457]], dtype=float32)]\n",
      "Relevance of radius 2: [array([[[[ 0.],\n",
      "         [ 0.],\n",
      "         [-0.],\n",
      "         ...,\n",
      "         [ 0.],\n",
      "         [ 0.],\n",
      "         [ 0.]],\n",
      "\n",
      "        [[ 0.],\n",
      "         [ 0.],\n",
      "         [ 0.],\n",
      "         ...,\n",
      "         [ 0.],\n",
      "         [ 0.],\n",
      "         [ 0.]],\n",
      "\n",
      "        [[-0.],\n",
      "         [-0.],\n",
      "         [ 0.],\n",
      "         ...,\n",
      "         [ 0.],\n",
      "         [ 0.],\n",
      "         [ 0.]],\n",
      "\n",
      "        ...,\n",
      "\n",
      "        [[-0.],\n",
      "         [-0.],\n",
      "         [-0.],\n",
      "         ...,\n",
      "         [-0.],\n",
      "         [ 0.],\n",
      "         [ 0.]],\n",
      "\n",
      "        [[ 0.],\n",
      "         [-0.],\n",
      "         [-0.],\n",
      "         ...,\n",
      "         [ 0.],\n",
      "         [ 0.],\n",
      "         [ 0.]],\n",
      "\n",
      "        [[ 0.],\n",
      "         [-0.],\n",
      "         [-0.],\n",
      "         ...,\n",
      "         [ 0.],\n",
      "         [ 0.],\n",
      "         [ 0.]]]], dtype=float32), array([[0.2711235]], dtype=float32), array([[-0.00550917,  0.06204739]], dtype=float32), array([[-0.44673377]], dtype=float32)]\n",
      "Relevance of z: [array([[[[ 0.],\n",
      "         [ 0.],\n",
      "         [-0.],\n",
      "         ...,\n",
      "         [ 0.],\n",
      "         [ 0.],\n",
      "         [ 0.]],\n",
      "\n",
      "        [[ 0.],\n",
      "         [ 0.],\n",
      "         [ 0.],\n",
      "         ...,\n",
      "         [ 0.],\n",
      "         [ 0.],\n",
      "         [ 0.]],\n",
      "\n",
      "        [[-0.],\n",
      "         [-0.],\n",
      "         [ 0.],\n",
      "         ...,\n",
      "         [ 0.],\n",
      "         [ 0.],\n",
      "         [ 0.]],\n",
      "\n",
      "        ...,\n",
      "\n",
      "        [[-0.],\n",
      "         [-0.],\n",
      "         [-0.],\n",
      "         ...,\n",
      "         [-0.],\n",
      "         [ 0.],\n",
      "         [ 0.]],\n",
      "\n",
      "        [[ 0.],\n",
      "         [-0.],\n",
      "         [-0.],\n",
      "         ...,\n",
      "         [ 0.],\n",
      "         [ 0.],\n",
      "         [ 0.]],\n",
      "\n",
      "        [[ 0.],\n",
      "         [-0.],\n",
      "         [-0.],\n",
      "         ...,\n",
      "         [ 0.],\n",
      "         [ 0.],\n",
      "         [ 0.]]]], dtype=float32), array([[0.2711235]], dtype=float32), array([[-0.00550917,  0.06204739]], dtype=float32), array([[-0.44673377]], dtype=float32)]\n",
      "total relevance:  [9.05934691e-01 8.10973525e-01 6.18172944e-01 ... 7.11661730e-10\n",
      " 7.83290516e-11 1.34625882e-12]\n"
     ]
    }
   ],
   "source": [
    "print(analysis[0][0][0][0])\n",
    "print( \"Relevance of theta:\", analysis[0])\n",
    "print(\"Relevance of radius 1:\", analysis[1])\n",
    "print(\"Relevance of radius 2:\", analysis[0])\n",
    "print(\"Relevance of z:\",  analysis[0])\n",
    "total_rel = np.ndarray(shape=(20000,))\n",
    "for i in range(len(predict)):\n",
    "    total_rel[i] = np.sum(analysis[i][0]) + np.sum(analysis[i][1]) + np.sum(analysis[i][2])\n",
    "zeros = 0\n",
    "for i in range(len(predict)):\n",
    "    if total_rel[i] == 0.0:\n",
    "        zeros+=1\n",
    "print(\"total relevance: \", total_rel)"
   ]
  },
  {
   "cell_type": "code",
   "execution_count": 12,
   "metadata": {},
   "outputs": [
    {
     "name": "stdout",
     "output_type": "stream",
     "text": [
      "(1, 32, 32, 1)\n",
      "signal inefficiency =  0 \n",
      "background inefficiency =  0\n",
      "\n",
      "time =\n",
      " 0.6379239559173584\n",
      "signal efficiency =  10000 \n",
      "background efficiency =  10000\n"
     ]
    },
    {
     "name": "stderr",
     "output_type": "stream",
     "text": [
      "/opt/conda/lib/python3.7/site-packages/ipykernel_launcher.py:61: RuntimeWarning: invalid value encountered in true_divide\n",
      "/opt/conda/lib/python3.7/site-packages/ipykernel_launcher.py:63: RuntimeWarning: invalid value encountered in true_divide\n"
     ]
    }
   ],
   "source": [
    "print(analysis[0][0].shape)\n",
    "\n",
    "sig_analysis_true = np.zeros_like(analysis[0][0])\n",
    "bkg_analysis_true = np.zeros_like(analysis[0][0])\n",
    "sig_analysis_pred = np.zeros_like(analysis[0][0])\n",
    "bkg_analysis_pred = np.zeros_like(analysis[0][0])\n",
    "sig_inefficiency = np.zeros_like(analysis[0][0])\n",
    "bkg_inefficiency = np.zeros_like(analysis[0][0])\n",
    "\n",
    "toc = time.time()\n",
    "\n",
    "for i in range(len(trainimages)):\n",
    "    if trainlabels[i] == 1:\n",
    "        sig_analysis_true += analysis[i][0]  \n",
    "        \n",
    "    else:\n",
    "        bkg_analysis_true += analysis[i][0]\n",
    "\n",
    "sig_analysis_true /= len(trainimages)/2\n",
    "bkg_analysis_true /= len(trainimages)/2\n",
    "        \n",
    "sig_anal_num = 0   \n",
    "sig_inef_num = 0\n",
    "bkg_anal_num = 0\n",
    "bkg_inef_num = 0\n",
    "weird = 0\n",
    "sig_zlab = np.array([0.])\n",
    "sig_thetalab = np.array([0.])\n",
    "bkg_zlab = np.array([0.])\n",
    "bkg_thetalab = np.array([0.])\n",
    "\n",
    "sig_ineff_zlab = np.array([0.])\n",
    "sig_ineff_thetalab = np.array([0.])\n",
    "bkg_ineff_zlab = np.array([0.])\n",
    "bkg_ineff_thetalab = np.array([0.])\n",
    "\n",
    "for i in range(len(trainimages)):\n",
    "    if i < int(len(predict)/2) and predict[i] > 0.50:\n",
    "        sig_analysis_pred += analysis[i][0]\n",
    "        sig_anal_num += 1\n",
    "        sig_zlab = np.append(sig_zlab, trainz[i])\n",
    "        sig_thetalab = np.append(sig_thetalab, traintheta[i])\n",
    "    elif i < int(len(predict)/2) and predict[i] < 0.50:\n",
    "        sig_inefficiency += analysis[i][0]\n",
    "        sig_inef_num += 1\n",
    "        sig_ineff_zlab = np.append(sig_ineff_zlab, train_zlabels[i])\n",
    "        sig_ineff_thetalab = np.append(sig_ineff_thetalab, traintheta[i])\n",
    "    elif i >= int(len(predict)/2) and predict[i] < 0.50:\n",
    "        bkg_analysis_pred += analysis[i][0]\n",
    "        bkg_anal_num += 1\n",
    "        bkg_zlab = np.append(bkg_zlab, trainz[i])\n",
    "        bkg_thetalab = np.append(bkg_thetalab, traintheta[i])\n",
    "    elif i >= int(len(predict)/2) and predict[i] > 0.50:\n",
    "        bkg_inefficiency += analysis[i][0]\n",
    "        bkg_inef_num += 1\n",
    "        bkg_ineff_zlab = np.append(bkg_ineff_zlab, trainz[i])\n",
    "        bkg_ineff_thetalab = np.append(bkg_ineff_thetalab, traintheta[i])\n",
    "        \n",
    "#normalizing relevance scores\n",
    "sig_analysis_pred /= sig_anal_num\n",
    "sig_inefficiency /= sig_inef_num\n",
    "bkg_analysis_pred /= bkg_anal_num\n",
    "bkg_inefficiency /= bkg_inef_num\n",
    "\n",
    "tic = time.time()\n",
    "print('signal inefficiency = ', sig_inef_num, '\\nbackground inefficiency = ', bkg_inef_num)\n",
    "print('\\ntime =\\n', tic-toc)\n",
    "print('signal efficiency = ', sig_anal_num, '\\nbackground efficiency = ', bkg_anal_num)"
   ]
  },
  {
   "cell_type": "code",
   "execution_count": 54,
   "metadata": {},
   "outputs": [
    {
     "name": "stdout",
     "output_type": "stream",
     "text": [
      "Relevance of 1st image: 0.578273\n",
      "Relevance of 1st theta: 0.2711235\n",
      "Relevance of 1st radius 1: -0.0055091684\n",
      "Relevance of 1st radius 2: 0.062047392\n",
      "Relevance of 1st z: -0.44673377\n",
      "Total relevance:  [ 4.59200919e-01  3.96478951e-01 -4.64063287e-02 ...  1.23475463e-09\n",
      "  1.26952365e-10  1.98175807e-12]\n"
     ]
    }
   ],
   "source": [
    "print(\"Relevance of 1st image:\", np.sum(analysis[0][0]))\n",
    "print( \"Relevance of 1st theta:\", analysis[0][1][0][0])\n",
    "print(\"Relevance of 1st radius 1:\", analysis[0][2][0][0])\n",
    "print(\"Relevance of 1st radius 2:\", analysis[0][2][0][1])\n",
    "print(\"Relevance of 1st z:\",  analysis[0][3][0][0])\n",
    "total_rel = np.ndarray(shape=(20000,))\n",
    "for i in range(len(predict)):\n",
    "    total_rel[i] = np.sum(analysis[i][0]) + np.sum(analysis[i][1]) + np.sum(analysis[i][2]) + np.sum(analysis[i][3])\n",
    "zeros = 0\n",
    "for i in range(len(predict)):\n",
    "    if total_rel[i] == 0.0:\n",
    "        zeros+=1\n",
    "print(\"Total relevance: \", total_rel)\n",
    "#print(zeros)"
   ]
  },
  {
   "cell_type": "code",
   "execution_count": 13,
   "metadata": {},
   "outputs": [],
   "source": [
    "# # set the colormap and centre the colorbar\n",
    "# class MidpointNormalize(Normalize):\n",
    "#     \"\"\"Normalise the colorbar so that diverging bars work there way either side from a prescribed midpoint value)\"\"\"\n",
    "#     def __init__(self, vmin=None, vmax=None, midpoint=None, clip=False):\n",
    "#         self.midpoint = midpoint\n",
    "#         Normalize.__init__(self, vmin, vmax, clip)\n",
    "        \n",
    "#     def __call__(self, value, clip=None):\n",
    "#         x, y = [self.vmin, self.midpoint, self.vmax], [0, 0.5, 1]\n",
    "#         return np.ma.masked_array(np.interp(value, x, y), np.isnan(value))"
   ]
  },
  {
   "cell_type": "code",
   "execution_count": 14,
   "metadata": {},
   "outputs": [
    {
     "data": {
      "image/png": "[encoded data removed]",
      "text/plain": [
       "<Figure size 1080x1080 with 6 Axes>"
      ]
     },
     "metadata": {
      "needs_background": "light"
     },
     "output_type": "display_data"
    }
   ],
   "source": [
    "sig_pred_max= np.amax(sig_analysis_pred)         \n",
    "sig_pred_min = np.amin(sig_analysis_pred)        \n",
    "sig_ineff_max= np.amax(sig_inefficiency)\n",
    "sig_ineff_min= np.amin(sig_inefficiency)\n",
    "sig_true_max= np.amax(sig_analysis_true)\n",
    "sig_true_min = np.amin(sig_analysis_true)\n",
    "\n",
    "# Displaying the signal results\n",
    "ax = plt.figure(figsize = (15,15))\n",
    "ax.add_subplot(131)\n",
    "im = plt.imshow(sig_analysis_true.reshape(grid,grid), origin = 'low',cmap='Reds', interpolation='nearest', clim=(sig_true_min, sig_true_max))\n",
    "plt.colorbar(im,fraction=0.046, pad=0.04)\n",
    "plt.title('Sig heatmap for true vals')\n",
    "ax.add_subplot(132)\n",
    "im = plt.imshow(sig_analysis_pred.reshape(grid,grid), origin = 'low', cmap='Reds', interpolation='nearest', clim=(sig_pred_min, sig_pred_max))\n",
    "plt.colorbar(im,fraction=0.046, pad=0.04)\n",
    "plt.title('Sig heatmap for predicted vals')\n",
    "ax.add_subplot(133)\n",
    "im = plt.imshow(sig_inefficiency.reshape(grid,grid), origin = 'low', cmap='Reds', interpolation='nearest', clim=(sig_ineff_min, sig_ineff_max))\n",
    "plt.colorbar(im,fraction=0.046, pad=0.04)\n",
    "plt.title('Sig inefficiency for predicted vals')\n",
    "plt.show()"
   ]
  },
  {
   "cell_type": "code",
   "execution_count": 15,
   "metadata": {},
   "outputs": [
    {
     "data": {
      "image/png": "[encoded data removed]",
      "text/plain": [
       "<Figure size 1080x1080 with 6 Axes>"
      ]
     },
     "metadata": {
      "needs_background": "light"
     },
     "output_type": "display_data"
    }
   ],
   "source": [
    "bkg_pred_max= np.amax(bkg_analysis_pred)\n",
    "bkg_pred_min = np.amin(bkg_analysis_pred)\n",
    "bkg_ineff_max= np.amax(bkg_inefficiency)\n",
    "bkg_ineff_min= np.amin(bkg_inefficiency)\n",
    "bkg_true_max= np.amax(bkg_analysis_true)\n",
    "bkg_true_min = np.amin(bkg_analysis_true)\n",
    "\n",
    "# Displaying the background results\n",
    "ax = plt.figure(figsize = (15,15))\n",
    "ax.add_subplot(131)\n",
    "im_ = plt.imshow(bkg_analysis_true.reshape(grid,grid), origin = 'low',cmap='Reds', interpolation='nearest', clim=(bkg_true_min, bkg_true_max))\n",
    "plt.colorbar(im_,fraction=0.046, pad=0.04)\n",
    "plt.title('Bkg heatmap for true vals')\n",
    "ax.add_subplot(132)\n",
    "im_ = plt.imshow(bkg_analysis_pred.reshape(grid,grid), origin = 'low',cmap='Reds', interpolation='nearest', clim=(bkg_pred_min, bkg_pred_max))\n",
    "plt.colorbar(im_,fraction=0.046, pad=0.04)\n",
    "plt.title('Bkg heatmap for predicted vals')\n",
    "ax.add_subplot(133)\n",
    "im = plt.imshow(bkg_inefficiency.reshape(grid,grid), origin = 'low', cmap='Reds', interpolation='nearest', clim=(bkg_ineff_min, bkg_ineff_max))\n",
    "plt.colorbar(im,fraction=0.046, pad=0.04)\n",
    "plt.title('Bkg ineff. heatmap for pred vals')\n",
    "plt.show()"
   ]
  },
  {
   "cell_type": "markdown",
   "metadata": {},
   "source": [
    "## 1D histogram of $\\theta$ and z for signal and bkg\n",
    "\n",
    "Z histogram"
   ]
  },
  {
   "cell_type": "code",
   "execution_count": 16,
   "metadata": {},
   "outputs": [
    {
     "ename": "NameError",
     "evalue": "name 'xbins' is not defined",
     "output_type": "error",
     "traceback": [
      "\u001b[0;31m---------------------------------------------------------------------------\u001b[0m",
      "\u001b[0;31mNameError\u001b[0m                                 Traceback (most recent call last)",
      "\u001b[0;32m<ipython-input-16-fc8be47f1f61>\u001b[0m in \u001b[0;36m<module>\u001b[0;34m\u001b[0m\n\u001b[0;32m----> 1\u001b[0;31m plt.hist([sig_zlab[1:], bkg_zlab[1:]] , xbins, \n\u001b[0m\u001b[1;32m      2\u001b[0m          color = ['b', 'r'], histtype = 'step', label = ['signal pred', 'background pred'])\n\u001b[1;32m      3\u001b[0m \u001b[0;31m# plt.yscale('log')\u001b[0m\u001b[0;34m\u001b[0m\u001b[0;34m\u001b[0m\u001b[0;34m\u001b[0m\u001b[0m\n\u001b[1;32m      4\u001b[0m \u001b[0mplt\u001b[0m\u001b[0;34m.\u001b[0m\u001b[0mlegend\u001b[0m\u001b[0;34m(\u001b[0m\u001b[0;34m)\u001b[0m\u001b[0;34m\u001b[0m\u001b[0;34m\u001b[0m\u001b[0m\n\u001b[1;32m      5\u001b[0m \u001b[0mplt\u001b[0m\u001b[0;34m.\u001b[0m\u001b[0mshow\u001b[0m\u001b[0;34m(\u001b[0m\u001b[0;34m)\u001b[0m\u001b[0;34m\u001b[0m\u001b[0;34m\u001b[0m\u001b[0m\n",
      "\u001b[0;31mNameError\u001b[0m: name 'xbins' is not defined"
     ]
    }
   ],
   "source": [
    "plt.hist([sig_zlab[1:], bkg_zlab[1:]] , xbins, \n",
    "         color = ['b', 'r'], histtype = 'step', label = ['signal pred', 'background pred'])\n",
    "# plt.yscale('log')\n",
    "plt.legend()\n",
    "plt.show()"
   ]
  },
  {
   "cell_type": "markdown",
   "metadata": {},
   "source": [
    "$\\theta$ histogram"
   ]
  },
  {
   "cell_type": "code",
   "execution_count": null,
   "metadata": {},
   "outputs": [],
   "source": [
    "plt.figure(figsize = (15,4))\n",
    "plt.subplot(121)\n",
    "plt.hist([z_analysis[0:int(len(predict)/2)], z_analysis[int(len(predict)/2):-1]], bins = 24, histtype = 'step',\n",
    "         label = ['signal z','bkg z'])\n",
    "plt.xlabel('relevance of z')\n",
    "plt.legend()\n",
    "plt.subplot(122)\n",
    "plt.hist([theta_analysis[0:int(len(predict)/2)], theta_analysis[int(len(predict)/2):-1]], bins = 24,\n",
    "         histtype = 'step', label = ['signal theta','bkg theta'])\n",
    "plt.xlabel('relevance of theta')\n",
    "plt.legend()\n",
    "plt.show()"
   ]
  },
  {
   "cell_type": "code",
   "execution_count": null,
   "metadata": {},
   "outputs": [],
   "source": []
  }
 ],
 "metadata": {
  "kernelspec": {
   "display_name": "Python 3",
   "language": "python",
   "name": "python3"
  },
  "language_info": {
   "codemirror_mode": {
    "name": "ipython",
    "version": 3
   },
   "file_extension": ".py",
   "mimetype": "text/x-python",
   "name": "python",
   "nbconvert_exporter": "python",
   "pygments_lexer": "ipython3",
   "version": "3.7.3"
  }
 },
 "nbformat": 4,
 "nbformat_minor": 2
}
