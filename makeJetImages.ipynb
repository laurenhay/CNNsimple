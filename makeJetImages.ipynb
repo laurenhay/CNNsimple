{
 "cells": [
  {
   "cell_type": "markdown",
   "metadata": {},
   "source": [
    "# Date: 12th June 2019"
   ]
  },
  {
   "cell_type": "code",
   "execution_count": 1,
   "metadata": {},
   "outputs": [],
   "source": [
    "import time\n",
    "import random\n",
    "import math\n",
    "import numpy as np\n",
    "import matplotlib.pyplot as plt\n",
    "from matplotlib.colors import LogNorm"
   ]
  },
  {
   "cell_type": "code",
   "execution_count": 2,
   "metadata": {},
   "outputs": [],
   "source": [
    "def partition_exp(n_particles=10, nevents=1, mu=1.):\n",
    "    evals = np.random.exponential(scale = mu, size=(nevents,n_particles))\n",
    "    sumRow =np.repeat(evals.sum(axis=1), n_particles).reshape(nevents, n_particles)\n",
    "    evals = np.sort(np.divide(evals,sumRow))[:, ::-1]\n",
    "    return evals"
   ]
  },
  {
   "cell_type": "code",
   "execution_count": 3,
   "metadata": {},
   "outputs": [],
   "source": [
    "def makeJetImages(grid = 32, n_data = 10, n_particles = 5, isSignal = False):\n",
    "\n",
    "    '''inputs: image size, number of datapoints, number of particles in each subjet, signal or background'''\n",
    "    '''outputs: array of images, radii, theta, labels, summed image'''\n",
    "\n",
    "    # origin\n",
    "    center = int((grid-1)/2)\n",
    "    \n",
    "    # create input variables\n",
    "    if isSignal:\n",
    "        theta = np.random.normal(loc=0.2, scale=0.02, size=n_data) # signal_d\n",
    "        z = np.random.normal(loc=0.5, scale=0.02, size=n_data) #signal_z \n",
    "        labels = np.ones(shape=(n_data,1))\n",
    "    else:\n",
    "        theta = np.random.exponential(scale=0.02, size=n_data) # bkg_d\n",
    "        z = np.random.exponential(scale=0.02, size=n_data) #bkg_z\n",
    "        labels = np.zeros(shape=(n_data,1))\n",
    "    \n",
    "    # masking z to ensure z<1.0\n",
    "    z = np.where(z<1.0, z, z%1) #signal_z   \n",
    "    # making so that z is always more than 1-z\n",
    "    z = np.where(z>0.5, z, (1-z))\n",
    "    z = np.repeat(z, n_particles).reshape(n_data, n_particles)\n",
    "    # masking theta to ensure theta<0.5\n",
    "    theta = np.where(theta<0.5, theta, theta%0.5)\n",
    "    theta = np.repeat(theta, n_particles).reshape(n_data, n_particles)\n",
    "    \n",
    "    # distributing pT fractions between particles\n",
    "    particles1 = np.multiply(partition_exp(n_particles, n_data), z)\n",
    "    particles2 = np.multiply(partition_exp(n_particles, n_data), (1-z))\n",
    "    \n",
    "    # one jet has two subjets \n",
    "    radii = np.random.uniform(0.25,0.5 ,size = (n_data,2))\n",
    "    radii1 = np.array([np.multiply(np.ones(shape = (n_particles)),y) for y in radii[:,0]])\n",
    "    radii2 = np.array([np.multiply(np.ones(shape = (n_particles)),y) for y in radii[:,1]])\n",
    "    dtheta1 = np.random.exponential(scale=0.5, size=(n_data, n_particles)) # delta theta for first subjet\n",
    "    dtheta1= np.sort(np.where(dtheta1<radii1, dtheta1, dtheta1%radii1))\n",
    "    phi1 = np.random.uniform(0, 2*math.pi, size=(n_data, n_particles)) # angular\n",
    "    dtheta2 = np.random.exponential(scale=0.5, size=(n_data, n_particles)) # delta theta for second subjet\n",
    "    dtheta2= np.sort(np.where(dtheta2<radii2, dtheta2, dtheta2%radii2))\n",
    "    phi2 = np.random.uniform(0, 2*math.pi, size=(n_data, n_particles)) # angular\n",
    "    \n",
    "    # position of particles on the grid : subscripts 1, 2 for particles in jet1, jet2 respectively   \n",
    "    x1 = (np.multiply(dtheta1, np.cos(phi1))*grid).astype(int) + center\n",
    "    x2 = (np.multiply(dtheta2, np.cos(phi2))*grid).astype(int) + center\n",
    "    y1 = (np.multiply(dtheta1, np.sin(phi1))*grid).astype(int) + center\n",
    "    y2 = ((np.multiply(dtheta2, np.sin(phi2))-theta)*grid).astype(int) + center\n",
    "\n",
    "    ybins1 = np.arange(0,grid+1)\n",
    "    xbins1 = np.arange(0,grid+1)\n",
    "    \n",
    "    # H1, H2 are the images from the first and second subjet respectively  \n",
    "    H1_ = (np.vstack(np.array([(np.histogram2d( y1[i], x1[i], bins=(xbins1, ybins1), weights = particles1[i])) for i in range(n_data)])[:,0])).reshape(n_data, grid, grid)\n",
    "    H2_ = (np.vstack(np.array([(np.histogram2d( y2[i], x2[i], bins=(xbins1, ybins1), weights = particles2[i])) for i in range(n_data)])[:,0])).reshape(n_data, grid, grid)\n",
    "    H_ = (H1_+H2_) # images witb both subjets\n",
    "    # performing a parity flip so that the right side of the jet image has the highest sum pixel intensity\n",
    "    H_parity = np.sum(H_, axis=1)\n",
    "    if (grid%2==0):\n",
    "        H_left_ = np.repeat(np.sum(np.sum(H_, axis=1)[:,:center+1], axis=1), grid**2).reshape(n_data,grid,grid)\n",
    "    else:\n",
    "        H_left_ = np.repeat(np.sum(np.sum(H_, axis=1)[:,:center], axis=1), grid**2).reshape(n_data,grid,grid)\n",
    "    H_right_ = np.repeat(np.sum(np.sum(H_, axis=1)[:,center+1:], axis=1), grid**2).reshape(n_data,grid,grid)\n",
    "    images = np.where(H_right_>H_left_, H_, np.flip(H_, axis=2))\n",
    "    avgImages = np.sum(images, axis =0)\n",
    "    z = z.reshape(n_data*n_particles,1)[::n_particles]\n",
    "    theta = theta.reshape(n_data*n_particles,1)[::n_particles]\n",
    "\n",
    "    return images, radii, z, theta, labels, avgImages"
   ]
  },
  {
   "cell_type": "code",
   "execution_count": 4,
   "metadata": {},
   "outputs": [],
   "source": [
    "grid = 32\n",
    "n_data = 10000\n",
    "n_particles = 10"
   ]
  },
  {
   "cell_type": "markdown",
   "metadata": {},
   "source": [
    "## 'Signal' jet images and their plots"
   ]
  },
  {
   "cell_type": "code",
   "execution_count": 12,
   "metadata": {},
   "outputs": [
    {
     "name": "stdout",
     "output_type": "stream",
     "text": [
      "Processing Time is  4.025918278843164 seconds for  10000  samples.\n",
      "(10000, 32, 32)\n"
     ]
    }
   ],
   "source": [
    "tic = time.perf_counter()\n",
    "isSignal1 = True\n",
    "images1, radii1, z1, theta1, labels1, avgImages1 = makeJetImages(grid, n_data, n_particles, isSignal1)\n",
    "toc = time.perf_counter()\n",
    "print('Processing Time is ',toc-tic, 'seconds for ',n_data, ' samples.' )\n",
    "\n",
    "print(images1.shape)\n",
    "np.savez('data/jetImages_signal', jetImages = images1, radiilab = radii1, zlab = z1, thetalab = theta1, labels = labels1, sumedImage = avgImages1)\n",
    "\n",
    "\n",
    "\n"
   ]
  },
  {
   "cell_type": "markdown",
   "metadata": {},
   "source": [
    "#### Average signal image - log scale norm"
   ]
  },
  {
   "cell_type": "code",
   "execution_count": 6,
   "metadata": {
    "scrolled": true
   },
   "outputs": [
    {
     "data": {
      "image/png": "[encoded data removed]",
      "text/plain": [
       "<Figure size 432x288 with 2 Axes>"
      ]
     },
     "metadata": {
      "needs_background": "light"
     },
     "output_type": "display_data"
    }
   ],
   "source": [
    "im1 = plt.imshow(avgImages1, interpolation='nearest', origin='low', norm=LogNorm(), cmap='jet')\n",
    "plt.colorbar()\n",
    "plt.show()"
   ]
  },
  {
   "cell_type": "markdown",
   "metadata": {},
   "source": [
    "#### Individual 'signal' jet images"
   ]
  },
  {
   "cell_type": "code",
   "execution_count": 7,
   "metadata": {},
   "outputs": [
    {
     "data": {
      "image/png": "[encoded data removed]",
      "text/plain": [
       "<Figure size 1080x432 with 10 Axes>"
      ]
     },
     "metadata": {},
     "output_type": "display_data"
    }
   ],
   "source": [
    "fig, axs = plt.subplots(2,5, figsize=(15, 6), facecolor='w', edgecolor='k')\n",
    "fig.subplots_adjust(hspace = .5, wspace=.001)\n",
    "axs = axs.ravel()\n",
    "for i in range(10):\n",
    "    axs[i].imshow(images1[i], interpolation='nearest', origin='low', cmap='jet')"
   ]
  },
  {
   "cell_type": "markdown",
   "metadata": {},
   "source": [
    "## 'Background' jet images and their plots"
   ]
  },
  {
   "cell_type": "code",
   "execution_count": 8,
   "metadata": {},
   "outputs": [
    {
     "name": "stdout",
     "output_type": "stream",
     "text": [
      "Processing Time is  3.978144852910191 seconds for  10000  samples.\n"
     ]
    }
   ],
   "source": [
    "tic = time.perf_counter()\n",
    "isSignal2 = False\n",
    "images2, radii2, z2, theta2, labels2, avgImages2 = makeJetImages(grid, n_data, n_particles, isSignal2)\n",
    "toc = time.perf_counter()\n",
    "print('Processing Time is ',toc-tic, 'seconds for ',n_data, ' samples.' )\n",
    "np.savez('data/jetImages_bkg', jetImages = images2, radiilab = radii2, zlab = z2, thetalab = theta2, labels = labels2, sumedImage = avgImages2)"
   ]
  },
  {
   "cell_type": "markdown",
   "metadata": {},
   "source": [
    "#### Average background image - log scale norm"
   ]
  },
  {
   "cell_type": "code",
   "execution_count": 9,
   "metadata": {},
   "outputs": [
    {
     "data": {
      "image/png": "[encoded data removed]",
      "text/plain": [
       "<Figure size 432x288 with 2 Axes>"
      ]
     },
     "metadata": {
      "needs_background": "light"
     },
     "output_type": "display_data"
    }
   ],
   "source": [
    "im1 = plt.imshow(avgImages2, interpolation='nearest', origin='low', norm=LogNorm(), cmap='jet')\n",
    "plt.colorbar()\n",
    "plt.show()"
   ]
  },
  {
   "cell_type": "markdown",
   "metadata": {},
   "source": [
    "#### Individual 'background' jet images"
   ]
  },
  {
   "cell_type": "code",
   "execution_count": 10,
   "metadata": {},
   "outputs": [
    {
     "data": {
      "image/png": "[encoded data removed]",
      "text/plain": [
       "<Figure size 1080x432 with 10 Axes>"
      ]
     },
     "metadata": {},
     "output_type": "display_data"
    }
   ],
   "source": [
    "fig, axs = plt.subplots(2,5, figsize=(15, 6), facecolor='w', edgecolor='k')\n",
    "fig.subplots_adjust(hspace = .5, wspace=.001)\n",
    "axs = axs.ravel()\n",
    "for i in range(10):\n",
    "    axs[i].imshow(images2[i], interpolation='nearest', origin='low', cmap='jet')"
   ]
  },
  {
   "cell_type": "markdown",
   "metadata": {},
   "source": [
    "### Creating samples for Testing"
   ]
  },
  {
   "cell_type": "code",
   "execution_count": 11,
   "metadata": {},
   "outputs": [],
   "source": [
    "isSignal3 = True\n",
    "images3, radii3, z3, theta3, labels3, avgImages3 = makeJetImages(grid, n_data, n_particles, isSignal3)\n",
    "np.savez('data/jetImages_signal_test', jetImages = images3, radiilab = radii3, zlab = z3, thetalab = theta3, labels = labels3, sumedImage = avgImages3)\n",
    "\n",
    "isSignal4 = False\n",
    "images4, radii4, z4, theta4, labels4, avgImages4 = makeJetImages(grid, n_data, n_particles, isSignal4)\n",
    "np.savez('data/jetImages_bkg_test', jetImages = images4, radiilab = radii4, zlab = z4, thetalab = theta4, labels = labels4, sumedImage = avgImages4)"
   ]
  }
 ],
 "metadata": {
  "kernelspec": {
   "display_name": "Python 3",
   "language": "python",
   "name": "python3"
  },
  "language_info": {
   "codemirror_mode": {
    "name": "ipython",
    "version": 3
   },
   "file_extension": ".py",
   "mimetype": "text/x-python",
   "name": "python",
   "nbconvert_exporter": "python",
   "pygments_lexer": "ipython3",
   "version": "3.7.3"
  }
 },
 "nbformat": 4,
 "nbformat_minor": 2
}
